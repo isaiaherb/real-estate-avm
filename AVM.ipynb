{
 "cells": [
  {
   "cell_type": "markdown",
   "id": "f30d6333-f2dd-49d1-b5be-5d41fcb60332",
   "metadata": {},
   "source": [
    "# Auto-Valuation Model (AVM)"
   ]
  },
  {
   "cell_type": "markdown",
   "id": "0fd1d252-f3ac-41e2-bee2-7a728802ba3d",
   "metadata": {},
   "source": [
    "In this linear regression model, we will be using the property information, monthly supermarket retail sales, and economic indicators (such as inflation)s, to generate the optimal regression function and predict Net Operating Income. The predicted NOI can then be used to determine the property's cap rate and test alternative values for the features in the model. An example of this would be a testing the shift in cap rates as a result of higher inflation or increased retail sales. Another example would be inputting alternate property features, such as the sale price, square feet, and the year sold, and determining the NOI for a property with these parameters."
   ]
  },
  {
   "cell_type": "code",
   "execution_count": 1,
   "id": "d981a17a",
   "metadata": {},
   "outputs": [
    {
     "name": "stdout",
     "output_type": "stream",
     "text": [
      "Requirement already satisfied: scikit-learn in /Users/isaiaherb/opt/anaconda3/lib/python3.9/site-packages (1.3.1)\n",
      "Requirement already satisfied: numpy<2.0,>=1.17.3 in /Users/isaiaherb/opt/anaconda3/lib/python3.9/site-packages (from scikit-learn) (1.26.4)\n",
      "Requirement already satisfied: scipy>=1.5.0 in /Users/isaiaherb/opt/anaconda3/lib/python3.9/site-packages (from scikit-learn) (1.11.4)\n",
      "Requirement already satisfied: joblib>=1.1.1 in /Users/isaiaherb/opt/anaconda3/lib/python3.9/site-packages (from scikit-learn) (1.3.2)\n",
      "Requirement already satisfied: threadpoolctl>=2.0.0 in /Users/isaiaherb/opt/anaconda3/lib/python3.9/site-packages (from scikit-learn) (2.2.0)\n",
      "\u001b[33mWARNING: Error parsing dependencies of pyodbc: Invalid version: '4.0.0-unsupported'\u001b[0m\u001b[33m\n",
      "\u001b[0mNote: you may need to restart the kernel to use updated packages.\n"
     ]
    }
   ],
   "source": [
    "pip install scikit-learn"
   ]
  },
  {
   "cell_type": "code",
   "execution_count": 2,
   "id": "1ad9166c-7c78-48dc-beb1-bdec2ad8c30d",
   "metadata": {},
   "outputs": [
    {
     "name": "stderr",
     "output_type": "stream",
     "text": [
      "/Users/isaiaherb/opt/anaconda3/lib/python3.9/site-packages/pandas/core/computation/expressions.py:21: UserWarning: Pandas requires version '2.8.4' or newer of 'numexpr' (version '2.7.3' currently installed).\n",
      "  from pandas.core.computation.check import NUMEXPR_INSTALLED\n",
      "/Users/isaiaherb/opt/anaconda3/lib/python3.9/site-packages/pandas/core/arrays/masked.py:60: UserWarning: Pandas requires version '1.3.6' or newer of 'bottleneck' (version '1.3.2' currently installed).\n",
      "  from pandas.core import (\n"
     ]
    }
   ],
   "source": [
    "import statsmodels.api as sm\n",
    "import pandas as pd\n",
    "import numpy as np\n",
    "import matplotlib.pyplot as plt\n",
    "from sklearn.model_selection import train_test_split\n",
    "from sklearn.linear_model import LinearRegression\n",
    "from sklearn.metrics import mean_squared_error, r2_score\n",
    "from sklearn.ensemble import RandomForestRegressor\n",
    "from sklearn.metrics import mean_squared_error\n",
    "from sklearn.preprocessing import LabelEncoder"
   ]
  },
  {
   "cell_type": "markdown",
   "id": "6e8c8edc-757e-4771-be85-66e4e8880ceb",
   "metadata": {},
   "source": [
    "### Linear Regression"
   ]
  },
  {
   "cell_type": "code",
   "execution_count": 3,
   "id": "23e2c17b-da51-4617-a817-0caeaaf7b454",
   "metadata": {},
   "outputs": [],
   "source": [
    "df_property = pd.read_csv('/Users/isaiaherb/Documents/Northbow/WholeFoods.csv')"
   ]
  },
  {
   "cell_type": "code",
   "execution_count": 4,
   "id": "6d318107-8916-411a-bfbc-abdb7a445103",
   "metadata": {},
   "outputs": [],
   "source": [
    "def fetch_census_data(file_path, sheet):\n",
    "    df = pd.read_excel(file_path,sheet_name=sheet,skiprows=4)\n",
    "    df.set_index('Unnamed: 1', inplace=True)\n",
    "    df = df.drop(columns='Unnamed: 0')\n",
    "    df_filtered = df.iloc[[27,28,29]]\n",
    "    df_transposed = df_filtered.transpose()\n",
    "    df = df_transposed.rename_axis('Date',axis='index')\n",
    "    df = df.rename_axis('Store Type', axis='columns')    \n",
    "    return df"
   ]
  },
  {
   "cell_type": "code",
   "execution_count": 5,
   "id": "db99cca7-90e6-46d2-aa9c-115abdd7cdb8",
   "metadata": {},
   "outputs": [],
   "source": [
    "file_path_main = '/Users/isaiaherb/Documents/Northbow/mrtssales92-present.xlsx'"
   ]
  },
  {
   "cell_type": "code",
   "execution_count": 6,
   "id": "eda0851e-b34a-4e82-a6df-a0ee3fe63337",
   "metadata": {},
   "outputs": [],
   "source": [
    "df_10 = fetch_census_data(file_path=file_path_main,sheet='2010')\n",
    "df_11 = fetch_census_data(file_path=file_path_main,sheet='2011')\n",
    "df_12 = fetch_census_data(file_path=file_path_main,sheet='2012')\n",
    "df_13 = fetch_census_data(file_path=file_path_main,sheet='2013')\n",
    "df_14 = fetch_census_data(file_path=file_path_main,sheet='2014')\n",
    "df_15 = fetch_census_data(file_path=file_path_main,sheet='2015')\n",
    "df_16 = fetch_census_data(file_path=file_path_main,sheet='2016')\n",
    "df_17 = fetch_census_data(file_path=file_path_main,sheet='2017')\n",
    "df_18 = fetch_census_data(file_path=file_path_main,sheet='2018')\n",
    "df_19 = fetch_census_data(file_path=file_path_main,sheet='2019')\n",
    "df_20 = fetch_census_data(file_path=file_path_main,sheet='2020')\n",
    "df_21 = fetch_census_data(file_path=file_path_main,sheet='2021')\n",
    "df_22 = fetch_census_data(file_path=file_path_main,sheet='2022')\n",
    "df_retail_sales = pd.concat([df_10,df_11,df_12,df_13,df_14,df_15,df_16,df_17,df_18,df_19,df_20,df_21,df_22])"
   ]
  },
  {
   "cell_type": "code",
   "execution_count": 7,
   "id": "817e9762-7a84-4497-982f-f05032faabff",
   "metadata": {},
   "outputs": [],
   "source": [
    "df_property['sale_date'] = pd.to_datetime(df_property['sale_date'], format='%m/%Y')"
   ]
  },
  {
   "cell_type": "code",
   "execution_count": 8,
   "id": "e019a3b0-fa26-441a-b158-d72233701e30",
   "metadata": {},
   "outputs": [
    {
     "data": {
      "text/html": [
       "<div>\n",
       "<style scoped>\n",
       "    .dataframe tbody tr th:only-of-type {\n",
       "        vertical-align: middle;\n",
       "    }\n",
       "\n",
       "    .dataframe tbody tr th {\n",
       "        vertical-align: top;\n",
       "    }\n",
       "\n",
       "    .dataframe thead th {\n",
       "        text-align: right;\n",
       "    }\n",
       "</style>\n",
       "<table border=\"1\" class=\"dataframe\">\n",
       "  <thead>\n",
       "    <tr style=\"text-align: right;\">\n",
       "      <th>Store Type</th>\n",
       "      <th>Food and beverage stores</th>\n",
       "      <th>Grocery stores</th>\n",
       "      <th>Supermarkets and other grocery (except convenience) stores</th>\n",
       "    </tr>\n",
       "    <tr>\n",
       "      <th>Date</th>\n",
       "      <th></th>\n",
       "      <th></th>\n",
       "      <th></th>\n",
       "    </tr>\n",
       "  </thead>\n",
       "  <tbody>\n",
       "    <tr>\n",
       "      <th>Jan. 2010</th>\n",
       "      <td>47072.0</td>\n",
       "      <td>42985.0</td>\n",
       "      <td>41185.0</td>\n",
       "    </tr>\n",
       "    <tr>\n",
       "      <th>Feb. 2010</th>\n",
       "      <td>44275.0</td>\n",
       "      <td>40061.0</td>\n",
       "      <td>38400.0</td>\n",
       "    </tr>\n",
       "    <tr>\n",
       "      <th>Mar. 2010</th>\n",
       "      <td>48123.0</td>\n",
       "      <td>43434.0</td>\n",
       "      <td>41542.0</td>\n",
       "    </tr>\n",
       "    <tr>\n",
       "      <th>Apr. 2010</th>\n",
       "      <td>47050.0</td>\n",
       "      <td>42236.0</td>\n",
       "      <td>40354.0</td>\n",
       "    </tr>\n",
       "    <tr>\n",
       "      <th>May 2010</th>\n",
       "      <td>49655.0</td>\n",
       "      <td>44607.0</td>\n",
       "      <td>42658.0</td>\n",
       "    </tr>\n",
       "  </tbody>\n",
       "</table>\n",
       "</div>"
      ],
      "text/plain": [
       "Store Type Food and beverage stores Grocery stores  \\\n",
       "Date                                                 \n",
       "Jan. 2010                   47072.0        42985.0   \n",
       "Feb. 2010                   44275.0        40061.0   \n",
       "Mar. 2010                   48123.0        43434.0   \n",
       "Apr. 2010                   47050.0        42236.0   \n",
       "May 2010                    49655.0        44607.0   \n",
       "\n",
       "Store Type Supermarkets and other grocery (except convenience) stores  \n",
       "Date                                                                   \n",
       "Jan. 2010                                             41185.0          \n",
       "Feb. 2010                                             38400.0          \n",
       "Mar. 2010                                             41542.0          \n",
       "Apr. 2010                                             40354.0          \n",
       "May 2010                                              42658.0          "
      ]
     },
     "execution_count": 8,
     "metadata": {},
     "output_type": "execute_result"
    }
   ],
   "source": [
    "df_retail_sales.head()"
   ]
  },
  {
   "cell_type": "code",
   "execution_count": 9,
   "id": "c2e34b5a-07c7-450a-9ecc-bc61f7451f12",
   "metadata": {},
   "outputs": [],
   "source": [
    "df_retail_sales.reset_index(inplace=True)\n",
    "df_retail_sales.rename(columns={'index': 'Date'}, inplace=True)"
   ]
  },
  {
   "cell_type": "code",
   "execution_count": 10,
   "id": "6bae0dfe-2e14-4b9c-b38b-b8e165f135a0",
   "metadata": {},
   "outputs": [
    {
     "data": {
      "text/html": [
       "<div>\n",
       "<style scoped>\n",
       "    .dataframe tbody tr th:only-of-type {\n",
       "        vertical-align: middle;\n",
       "    }\n",
       "\n",
       "    .dataframe tbody tr th {\n",
       "        vertical-align: top;\n",
       "    }\n",
       "\n",
       "    .dataframe thead th {\n",
       "        text-align: right;\n",
       "    }\n",
       "</style>\n",
       "<table border=\"1\" class=\"dataframe\">\n",
       "  <thead>\n",
       "    <tr style=\"text-align: right;\">\n",
       "      <th>Store Type</th>\n",
       "      <th>Date</th>\n",
       "      <th>Food and beverage stores</th>\n",
       "      <th>Grocery stores</th>\n",
       "      <th>Supermarkets and other grocery (except convenience) stores</th>\n",
       "    </tr>\n",
       "  </thead>\n",
       "  <tbody>\n",
       "    <tr>\n",
       "      <th>0</th>\n",
       "      <td>Jan. 2010</td>\n",
       "      <td>47072.0</td>\n",
       "      <td>42985.0</td>\n",
       "      <td>41185.0</td>\n",
       "    </tr>\n",
       "    <tr>\n",
       "      <th>1</th>\n",
       "      <td>Feb. 2010</td>\n",
       "      <td>44275.0</td>\n",
       "      <td>40061.0</td>\n",
       "      <td>38400.0</td>\n",
       "    </tr>\n",
       "    <tr>\n",
       "      <th>2</th>\n",
       "      <td>Mar. 2010</td>\n",
       "      <td>48123.0</td>\n",
       "      <td>43434.0</td>\n",
       "      <td>41542.0</td>\n",
       "    </tr>\n",
       "    <tr>\n",
       "      <th>3</th>\n",
       "      <td>Apr. 2010</td>\n",
       "      <td>47050.0</td>\n",
       "      <td>42236.0</td>\n",
       "      <td>40354.0</td>\n",
       "    </tr>\n",
       "    <tr>\n",
       "      <th>4</th>\n",
       "      <td>May 2010</td>\n",
       "      <td>49655.0</td>\n",
       "      <td>44607.0</td>\n",
       "      <td>42658.0</td>\n",
       "    </tr>\n",
       "  </tbody>\n",
       "</table>\n",
       "</div>"
      ],
      "text/plain": [
       "Store Type       Date Food and beverage stores Grocery stores  \\\n",
       "0           Jan. 2010                  47072.0        42985.0   \n",
       "1           Feb. 2010                  44275.0        40061.0   \n",
       "2           Mar. 2010                  48123.0        43434.0   \n",
       "3           Apr. 2010                  47050.0        42236.0   \n",
       "4            May 2010                  49655.0        44607.0   \n",
       "\n",
       "Store Type Supermarkets and other grocery (except convenience) stores  \n",
       "0                                                     41185.0          \n",
       "1                                                     38400.0          \n",
       "2                                                     41542.0          \n",
       "3                                                     40354.0          \n",
       "4                                                     42658.0          "
      ]
     },
     "execution_count": 10,
     "metadata": {},
     "output_type": "execute_result"
    }
   ],
   "source": [
    "df_retail_sales.head()"
   ]
  },
  {
   "cell_type": "code",
   "execution_count": 11,
   "id": "a06945d0-53ea-4332-9e00-daa104dcbaab",
   "metadata": {},
   "outputs": [],
   "source": [
    "formats = ['%b. %Y', '%b %Y']\n",
    "for fmt in formats:\n",
    "    try:\n",
    "        df_retail_sales['Date'] = pd.to_datetime(df_retail_sales['Date'], format=fmt)\n",
    "        break  \n",
    "    except ValueError:\n",
    "        pass "
   ]
  },
  {
   "cell_type": "code",
   "execution_count": 12,
   "id": "b000fdf7-6c8c-4ed3-920e-88b125aa8c68",
   "metadata": {},
   "outputs": [
    {
     "data": {
      "text/html": [
       "<div>\n",
       "<style scoped>\n",
       "    .dataframe tbody tr th:only-of-type {\n",
       "        vertical-align: middle;\n",
       "    }\n",
       "\n",
       "    .dataframe tbody tr th {\n",
       "        vertical-align: top;\n",
       "    }\n",
       "\n",
       "    .dataframe thead th {\n",
       "        text-align: right;\n",
       "    }\n",
       "</style>\n",
       "<table border=\"1\" class=\"dataframe\">\n",
       "  <thead>\n",
       "    <tr style=\"text-align: right;\">\n",
       "      <th>Store Type</th>\n",
       "      <th>Date</th>\n",
       "      <th>Food and beverage stores</th>\n",
       "      <th>Grocery stores</th>\n",
       "      <th>Supermarkets and other grocery (except convenience) stores</th>\n",
       "    </tr>\n",
       "  </thead>\n",
       "  <tbody>\n",
       "    <tr>\n",
       "      <th>0</th>\n",
       "      <td>Jan. 2010</td>\n",
       "      <td>47072.0</td>\n",
       "      <td>42985.0</td>\n",
       "      <td>41185.0</td>\n",
       "    </tr>\n",
       "    <tr>\n",
       "      <th>1</th>\n",
       "      <td>Feb. 2010</td>\n",
       "      <td>44275.0</td>\n",
       "      <td>40061.0</td>\n",
       "      <td>38400.0</td>\n",
       "    </tr>\n",
       "    <tr>\n",
       "      <th>2</th>\n",
       "      <td>Mar. 2010</td>\n",
       "      <td>48123.0</td>\n",
       "      <td>43434.0</td>\n",
       "      <td>41542.0</td>\n",
       "    </tr>\n",
       "    <tr>\n",
       "      <th>3</th>\n",
       "      <td>Apr. 2010</td>\n",
       "      <td>47050.0</td>\n",
       "      <td>42236.0</td>\n",
       "      <td>40354.0</td>\n",
       "    </tr>\n",
       "    <tr>\n",
       "      <th>4</th>\n",
       "      <td>May 2010</td>\n",
       "      <td>49655.0</td>\n",
       "      <td>44607.0</td>\n",
       "      <td>42658.0</td>\n",
       "    </tr>\n",
       "  </tbody>\n",
       "</table>\n",
       "</div>"
      ],
      "text/plain": [
       "Store Type       Date Food and beverage stores Grocery stores  \\\n",
       "0           Jan. 2010                  47072.0        42985.0   \n",
       "1           Feb. 2010                  44275.0        40061.0   \n",
       "2           Mar. 2010                  48123.0        43434.0   \n",
       "3           Apr. 2010                  47050.0        42236.0   \n",
       "4            May 2010                  49655.0        44607.0   \n",
       "\n",
       "Store Type Supermarkets and other grocery (except convenience) stores  \n",
       "0                                                     41185.0          \n",
       "1                                                     38400.0          \n",
       "2                                                     41542.0          \n",
       "3                                                     40354.0          \n",
       "4                                                     42658.0          "
      ]
     },
     "execution_count": 12,
     "metadata": {},
     "output_type": "execute_result"
    }
   ],
   "source": [
    "df_retail_sales.head()"
   ]
  },
  {
   "cell_type": "code",
   "execution_count": 13,
   "id": "3ddc71dc-3d18-4895-a93f-5e94715435c2",
   "metadata": {},
   "outputs": [],
   "source": [
    "df_retail_sales = df_retail_sales[df_retail_sales['Date'] != 'TOTAL']"
   ]
  },
  {
   "cell_type": "code",
   "execution_count": 14,
   "id": "f532a9fc-20a9-431d-bc40-f063f22b55da",
   "metadata": {},
   "outputs": [],
   "source": [
    "df_retail_sales['Date'] = pd.to_datetime(df_retail_sales['Date'],format='mixed')"
   ]
  },
  {
   "cell_type": "code",
   "execution_count": 15,
   "id": "5ee8a8bc-70bc-4236-8234-48686928b12b",
   "metadata": {},
   "outputs": [
    {
     "name": "stdout",
     "output_type": "stream",
     "text": [
      "<class 'pandas.core.frame.DataFrame'>\n",
      "Index: 156 entries, 0 to 167\n",
      "Data columns (total 4 columns):\n",
      " #   Column                                                      Non-Null Count  Dtype         \n",
      "---  ------                                                      --------------  -----         \n",
      " 0   Date                                                        156 non-null    datetime64[ns]\n",
      " 1   Food and beverage stores                                    156 non-null    object        \n",
      " 2   Grocery stores                                              156 non-null    object        \n",
      " 3   Supermarkets and other grocery (except convenience) stores  156 non-null    object        \n",
      "dtypes: datetime64[ns](1), object(3)\n",
      "memory usage: 6.1+ KB\n"
     ]
    }
   ],
   "source": [
    "df_retail_sales.info()"
   ]
  },
  {
   "cell_type": "code",
   "execution_count": 16,
   "id": "1ba084ef-a68f-4ac4-aa70-a0e73470fb0b",
   "metadata": {},
   "outputs": [],
   "source": [
    "df_property['Month_Year'] = df_property['sale_date'].dt.to_period('M')\n",
    "df_retail_sales['Month_Year'] = df_retail_sales['Date'].dt.to_period('M')\n",
    "\n",
    "df_property.drop(columns=['sale_date'], inplace=True)\n",
    "df_retail_sales.drop(columns=['Date'], inplace=True)\n",
    "\n",
    "merged_df = pd.merge(df_property, df_retail_sales, on='Month_Year', how='left')"
   ]
  },
  {
   "cell_type": "code",
   "execution_count": 17,
   "id": "1fee14aa-8d80-469c-b2ef-1282b867283e",
   "metadata": {},
   "outputs": [
    {
     "data": {
      "text/html": [
       "<div>\n",
       "<style scoped>\n",
       "    .dataframe tbody tr th:only-of-type {\n",
       "        vertical-align: middle;\n",
       "    }\n",
       "\n",
       "    .dataframe tbody tr th {\n",
       "        vertical-align: top;\n",
       "    }\n",
       "\n",
       "    .dataframe thead th {\n",
       "        text-align: right;\n",
       "    }\n",
       "</style>\n",
       "<table border=\"1\" class=\"dataframe\">\n",
       "  <thead>\n",
       "    <tr style=\"text-align: right;\">\n",
       "      <th></th>\n",
       "      <th>year_sold</th>\n",
       "      <th>property_name</th>\n",
       "      <th>city</th>\n",
       "      <th>state</th>\n",
       "      <th>total_sf</th>\n",
       "      <th>price</th>\n",
       "      <th>price_per_sf</th>\n",
       "      <th>noi</th>\n",
       "      <th>multi_single_tenant</th>\n",
       "      <th>federal_funds_rate</th>\n",
       "      <th>interest_rate</th>\n",
       "      <th>inflation</th>\n",
       "      <th>10_year_treasury</th>\n",
       "      <th>cap_rate</th>\n",
       "      <th>gdp</th>\n",
       "      <th>Month_Year</th>\n",
       "      <th>Food and beverage stores</th>\n",
       "      <th>Grocery stores</th>\n",
       "      <th>Supermarkets and other grocery (except convenience) stores</th>\n",
       "    </tr>\n",
       "  </thead>\n",
       "  <tbody>\n",
       "    <tr>\n",
       "      <th>0</th>\n",
       "      <td>2010</td>\n",
       "      <td>Springbrook Praries Pavillion</td>\n",
       "      <td>Naperville</td>\n",
       "      <td>IL</td>\n",
       "      <td>319401</td>\n",
       "      <td>47163836.0</td>\n",
       "      <td>147.66</td>\n",
       "      <td>3183558.93</td>\n",
       "      <td>1</td>\n",
       "      <td>0.0018</td>\n",
       "      <td>0.0164</td>\n",
       "      <td>0.0469</td>\n",
       "      <td>0.0322</td>\n",
       "      <td>0.0675</td>\n",
       "      <td>69452217000</td>\n",
       "      <td>2010-07</td>\n",
       "      <td>49732.0</td>\n",
       "      <td>44559.0</td>\n",
       "      <td>42598.0</td>\n",
       "    </tr>\n",
       "    <tr>\n",
       "      <th>1</th>\n",
       "      <td>2010</td>\n",
       "      <td>Willow Festival</td>\n",
       "      <td>Northbrook</td>\n",
       "      <td>IL</td>\n",
       "      <td>113692</td>\n",
       "      <td>21592225.0</td>\n",
       "      <td>189.92</td>\n",
       "      <td>1403494.63</td>\n",
       "      <td>1</td>\n",
       "      <td>0.0018</td>\n",
       "      <td>0.0164</td>\n",
       "      <td>0.0469</td>\n",
       "      <td>0.0322</td>\n",
       "      <td>0.0650</td>\n",
       "      <td>320358759000</td>\n",
       "      <td>2010-12</td>\n",
       "      <td>53550.0</td>\n",
       "      <td>46658.0</td>\n",
       "      <td>44770.0</td>\n",
       "    </tr>\n",
       "    <tr>\n",
       "      <th>2</th>\n",
       "      <td>2011</td>\n",
       "      <td>Whole Foods - Denver</td>\n",
       "      <td>Denver</td>\n",
       "      <td>CO</td>\n",
       "      <td>141818</td>\n",
       "      <td>29935841.0</td>\n",
       "      <td>211.09</td>\n",
       "      <td>2065573.03</td>\n",
       "      <td>1</td>\n",
       "      <td>0.0010</td>\n",
       "      <td>0.0316</td>\n",
       "      <td>0.0445</td>\n",
       "      <td>0.0278</td>\n",
       "      <td>0.0690</td>\n",
       "      <td>52411746000</td>\n",
       "      <td>2011-11</td>\n",
       "      <td>51352.0</td>\n",
       "      <td>46046.0</td>\n",
       "      <td>44156.0</td>\n",
       "    </tr>\n",
       "    <tr>\n",
       "      <th>3</th>\n",
       "      <td>2011</td>\n",
       "      <td>Whole Foods - Fairfield</td>\n",
       "      <td>Fairfield</td>\n",
       "      <td>CT</td>\n",
       "      <td>5000</td>\n",
       "      <td>26725168.0</td>\n",
       "      <td>5345.03</td>\n",
       "      <td>1469884.24</td>\n",
       "      <td>1</td>\n",
       "      <td>0.0010</td>\n",
       "      <td>0.0316</td>\n",
       "      <td>0.0445</td>\n",
       "      <td>0.0278</td>\n",
       "      <td>0.0550</td>\n",
       "      <td>82853670000</td>\n",
       "      <td>2011-12</td>\n",
       "      <td>56065.0</td>\n",
       "      <td>48843.0</td>\n",
       "      <td>46916.0</td>\n",
       "    </tr>\n",
       "    <tr>\n",
       "      <th>4</th>\n",
       "      <td>2011</td>\n",
       "      <td>Tower Shops</td>\n",
       "      <td>Davie</td>\n",
       "      <td>FL</td>\n",
       "      <td>289303</td>\n",
       "      <td>58462337.0</td>\n",
       "      <td>202.08</td>\n",
       "      <td>3770820.74</td>\n",
       "      <td>1</td>\n",
       "      <td>0.0010</td>\n",
       "      <td>0.0316</td>\n",
       "      <td>0.0445</td>\n",
       "      <td>0.0278</td>\n",
       "      <td>0.0645</td>\n",
       "      <td>81772409000</td>\n",
       "      <td>2011-01</td>\n",
       "      <td>48438.0</td>\n",
       "      <td>44282.0</td>\n",
       "      <td>42501.0</td>\n",
       "    </tr>\n",
       "  </tbody>\n",
       "</table>\n",
       "</div>"
      ],
      "text/plain": [
       "   year_sold                  property_name        city state  total_sf  \\\n",
       "0       2010  Springbrook Praries Pavillion  Naperville    IL    319401   \n",
       "1       2010                Willow Festival  Northbrook    IL    113692   \n",
       "2       2011           Whole Foods - Denver      Denver    CO    141818   \n",
       "3       2011        Whole Foods - Fairfield   Fairfield    CT      5000   \n",
       "4       2011                    Tower Shops       Davie    FL    289303   \n",
       "\n",
       "        price  price_per_sf         noi  multi_single_tenant  \\\n",
       "0  47163836.0        147.66  3183558.93                    1   \n",
       "1  21592225.0        189.92  1403494.63                    1   \n",
       "2  29935841.0        211.09  2065573.03                    1   \n",
       "3  26725168.0       5345.03  1469884.24                    1   \n",
       "4  58462337.0        202.08  3770820.74                    1   \n",
       "\n",
       "   federal_funds_rate  interest_rate  inflation  10_year_treasury  cap_rate  \\\n",
       "0              0.0018         0.0164     0.0469            0.0322    0.0675   \n",
       "1              0.0018         0.0164     0.0469            0.0322    0.0650   \n",
       "2              0.0010         0.0316     0.0445            0.0278    0.0690   \n",
       "3              0.0010         0.0316     0.0445            0.0278    0.0550   \n",
       "4              0.0010         0.0316     0.0445            0.0278    0.0645   \n",
       "\n",
       "            gdp Month_Year Food and beverage stores Grocery stores  \\\n",
       "0   69452217000    2010-07                  49732.0        44559.0   \n",
       "1  320358759000    2010-12                  53550.0        46658.0   \n",
       "2   52411746000    2011-11                  51352.0        46046.0   \n",
       "3   82853670000    2011-12                  56065.0        48843.0   \n",
       "4   81772409000    2011-01                  48438.0        44282.0   \n",
       "\n",
       "  Supermarkets and other grocery (except convenience) stores  \n",
       "0                                            42598.0          \n",
       "1                                            44770.0          \n",
       "2                                            44156.0          \n",
       "3                                            46916.0          \n",
       "4                                            42501.0          "
      ]
     },
     "execution_count": 17,
     "metadata": {},
     "output_type": "execute_result"
    }
   ],
   "source": [
    "merged_df.head()"
   ]
  },
  {
   "cell_type": "code",
   "execution_count": 46,
   "id": "d5fe4cfd-7a26-47b6-9114-268c8f6b9bdd",
   "metadata": {},
   "outputs": [],
   "source": [
    "merged_df = merged_df[merged_df['noi'] <= 5000000]"
   ]
  },
  {
   "cell_type": "code",
   "execution_count": 47,
   "id": "232608bc-601f-4869-9c81-ae0e051e5760",
   "metadata": {},
   "outputs": [],
   "source": [
    "merged_df['Food and beverage stores'] = pd.to_numeric(merged_df['Food and beverage stores'], errors='coerce')\n",
    "merged_df['Grocery stores'] = pd.to_numeric(merged_df['Grocery stores'], errors='coerce')\n",
    "merged_df['Supermarkets and other grocery (except convenience) stores'] = pd.to_numeric(merged_df['Supermarkets and other grocery (except convenience) stores'], errors='coerce')\n"
   ]
  },
  {
   "cell_type": "code",
   "execution_count": 48,
   "id": "e6ecb507-8b6e-4252-88fe-9c1d547e4ef6",
   "metadata": {},
   "outputs": [],
   "source": [
    "X = merged_df.drop(['noi', 'cap_rate', 'inflation', 'multi_single_tenant','Supermarkets and other grocery (except convenience) stores', 'Month_Year', 'price_per_sf', 'property_name', 'city', 'state','10_year_treasury', 'gdp', 'federal_funds_rate', 'interest_rate', 'Food and beverage stores', 'Grocery stores'], axis=1)\n",
    "y = merged_df['noi']"
   ]
  },
  {
   "cell_type": "code",
   "execution_count": 49,
   "id": "5731060a-c0ba-46dc-8811-6b2827d07fe4",
   "metadata": {},
   "outputs": [],
   "source": [
    "X = sm.add_constant(X)"
   ]
  },
  {
   "cell_type": "code",
   "execution_count": 38,
   "id": "23f33439-d6b3-4194-8ab3-b1963652d615",
   "metadata": {},
   "outputs": [],
   "source": [
    "model = sm.OLS(y, X).fit()"
   ]
  },
  {
   "cell_type": "code",
   "execution_count": 39,
   "id": "3433c645-614d-471d-a356-4665a8352c32",
   "metadata": {},
   "outputs": [
    {
     "name": "stdout",
     "output_type": "stream",
     "text": [
      "                            OLS Regression Results                            \n",
      "==============================================================================\n",
      "Dep. Variable:                    noi   R-squared:                       0.947\n",
      "Model:                            OLS   Adj. R-squared:                  0.946\n",
      "Method:                 Least Squares   F-statistic:                     712.3\n",
      "Date:                Thu, 27 Jun 2024   Prob (F-statistic):           7.99e-76\n",
      "Time:                        20:50:25   Log-Likelihood:                -1810.9\n",
      "No. Observations:                 123   AIC:                             3630.\n",
      "Df Residuals:                     119   BIC:                             3641.\n",
      "Df Model:                           3                                         \n",
      "Covariance Type:            nonrobust                                         \n",
      "==============================================================================\n",
      "                 coef    std err          t      P>|t|      [0.025      0.975]\n",
      "------------------------------------------------------------------------------\n",
      "const       2.229e+07   2.86e+07      0.778      0.438   -3.44e+07     7.9e+07\n",
      "year_sold  -1.095e+04   1.42e+04     -0.771      0.442    -3.9e+04    1.71e+04\n",
      "total_sf       0.7487      0.291      2.577      0.011       0.173       1.324\n",
      "price          0.0470      0.001     36.384      0.000       0.044       0.050\n",
      "==============================================================================\n",
      "Omnibus:                       37.671   Durbin-Watson:                   1.918\n",
      "Prob(Omnibus):                  0.000   Jarque-Bera (JB):              188.969\n",
      "Skew:                           0.882   Prob(JB):                     9.24e-42\n",
      "Kurtosis:                       8.810   Cond. No.                     3.93e+10\n",
      "==============================================================================\n",
      "\n",
      "Notes:\n",
      "[1] Standard Errors assume that the covariance matrix of the errors is correctly specified.\n",
      "[2] The condition number is large, 3.93e+10. This might indicate that there are\n",
      "strong multicollinearity or other numerical problems.\n"
     ]
    }
   ],
   "source": [
    "summary = model.summary()\n",
    "print(summary)"
   ]
  },
  {
   "cell_type": "code",
   "execution_count": 40,
   "id": "9373a97f-b0dc-4f08-b66f-a7fba5239104",
   "metadata": {},
   "outputs": [
    {
     "name": "stdout",
     "output_type": "stream",
     "text": [
      "              Variable            VIF\n",
      "0                const  279575.961865\n",
      "1            year_sold       1.035789\n",
      "2             total_sf       1.523285\n",
      "3                price       1.544954\n",
      "4  multi_single_tenant       1.177710\n"
     ]
    }
   ],
   "source": [
    "from statsmodels.stats.outliers_influence import variance_inflation_factor\n",
    "from statsmodels.tools.tools import add_constant\n",
    "\n",
    "X = df_property[['year_sold', 'total_sf', 'price', 'multi_single_tenant']]\n",
    "X = add_constant(X)\n",
    "vif = pd.DataFrame()\n",
    "vif[\"Variable\"] = X.columns\n",
    "vif[\"VIF\"] = [variance_inflation_factor(X.values, i) for i in range(X.shape[1])]\n",
    "\n",
    "print(vif)"
   ]
  },
  {
   "cell_type": "markdown",
   "id": "229de8d7-e006-46b4-8f63-507c22257ef5",
   "metadata": {},
   "source": [
    "**Multicollinearity Check:** All values are less than 10, indicating multicollinearity is not an issue."
   ]
  },
  {
   "cell_type": "code",
   "execution_count": 43,
   "id": "0829786b-a4dc-4446-ba23-d6307f052b13",
   "metadata": {},
   "outputs": [
    {
     "ename": "ValueError",
     "evalue": "shapes (123,3) and (4,) not aligned: 3 (dim 1) != 4 (dim 0)",
     "output_type": "error",
     "traceback": [
      "\u001b[0;31m---------------------------------------------------------------------------\u001b[0m",
      "\u001b[0;31mValueError\u001b[0m                                Traceback (most recent call last)",
      "\u001b[0;32m/var/folders/1q/xp3s_g4562n85d_j0xm_sp080000gn/T/ipykernel_55049/2765839135.py\u001b[0m in \u001b[0;36m<module>\u001b[0;34m\u001b[0m\n\u001b[0;32m----> 1\u001b[0;31m \u001b[0mpredictions\u001b[0m \u001b[0;34m=\u001b[0m \u001b[0mmodel\u001b[0m\u001b[0;34m.\u001b[0m\u001b[0mpredict\u001b[0m\u001b[0;34m(\u001b[0m\u001b[0mX\u001b[0m\u001b[0;34m)\u001b[0m\u001b[0;34m\u001b[0m\u001b[0;34m\u001b[0m\u001b[0m\n\u001b[0m",
      "\u001b[0;32m~/opt/anaconda3/lib/python3.9/site-packages/statsmodels/base/model.py\u001b[0m in \u001b[0;36mpredict\u001b[0;34m(self, exog, transform, *args, **kwargs)\u001b[0m\n\u001b[1;32m   1174\u001b[0m                                                         transform=transform)\n\u001b[1;32m   1175\u001b[0m \u001b[0;34m\u001b[0m\u001b[0m\n\u001b[0;32m-> 1176\u001b[0;31m         predict_results = self.model.predict(self.params, exog, *args,\n\u001b[0m\u001b[1;32m   1177\u001b[0m                                              **kwargs)\n\u001b[1;32m   1178\u001b[0m \u001b[0;34m\u001b[0m\u001b[0m\n",
      "\u001b[0;32m~/opt/anaconda3/lib/python3.9/site-packages/statsmodels/regression/linear_model.py\u001b[0m in \u001b[0;36mpredict\u001b[0;34m(self, params, exog)\u001b[0m\n\u001b[1;32m    409\u001b[0m             \u001b[0mexog\u001b[0m \u001b[0;34m=\u001b[0m \u001b[0mself\u001b[0m\u001b[0;34m.\u001b[0m\u001b[0mexog\u001b[0m\u001b[0;34m\u001b[0m\u001b[0;34m\u001b[0m\u001b[0m\n\u001b[1;32m    410\u001b[0m \u001b[0;34m\u001b[0m\u001b[0m\n\u001b[0;32m--> 411\u001b[0;31m         \u001b[0;32mreturn\u001b[0m \u001b[0mnp\u001b[0m\u001b[0;34m.\u001b[0m\u001b[0mdot\u001b[0m\u001b[0;34m(\u001b[0m\u001b[0mexog\u001b[0m\u001b[0;34m,\u001b[0m \u001b[0mparams\u001b[0m\u001b[0;34m)\u001b[0m\u001b[0;34m\u001b[0m\u001b[0;34m\u001b[0m\u001b[0m\n\u001b[0m\u001b[1;32m    412\u001b[0m \u001b[0;34m\u001b[0m\u001b[0m\n\u001b[1;32m    413\u001b[0m     \u001b[0;32mdef\u001b[0m \u001b[0mget_distribution\u001b[0m\u001b[0;34m(\u001b[0m\u001b[0mself\u001b[0m\u001b[0;34m,\u001b[0m \u001b[0mparams\u001b[0m\u001b[0;34m,\u001b[0m \u001b[0mscale\u001b[0m\u001b[0;34m,\u001b[0m \u001b[0mexog\u001b[0m\u001b[0;34m=\u001b[0m\u001b[0;32mNone\u001b[0m\u001b[0;34m,\u001b[0m \u001b[0mdist_class\u001b[0m\u001b[0;34m=\u001b[0m\u001b[0;32mNone\u001b[0m\u001b[0;34m)\u001b[0m\u001b[0;34m:\u001b[0m\u001b[0;34m\u001b[0m\u001b[0;34m\u001b[0m\u001b[0m\n",
      "\u001b[0;31mValueError\u001b[0m: shapes (123,3) and (4,) not aligned: 3 (dim 1) != 4 (dim 0)"
     ]
    }
   ],
   "source": [
    "predictions = model.predict(X)"
   ]
  },
  {
   "cell_type": "code",
   "execution_count": 44,
   "id": "d8a8ac81-17ce-41c8-962d-44aa97da6a3a",
   "metadata": {},
   "outputs": [
    {
     "data": {
      "image/png": "[encoded data removed]",
      "text/plain": [
       "<Figure size 720x432 with 1 Axes>"
      ]
     },
     "metadata": {
      "needs_background": "light"
     },
     "output_type": "display_data"
    }
   ],
   "source": [
    "plt.figure(figsize=(10,6))\n",
    "plt.scatter(y, predictions)\n",
    "plt.title('Predicted vs Actual Values')\n",
    "plt.xlabel('Actual Values')\n",
    "plt.ylabel('Predicted Values')\n",
    "plt.plot([y.min(), y.max()], [y.min(), y.max()], color='red')\n",
    "plt.show()"
   ]
  },
  {
   "cell_type": "code",
   "execution_count": 45,
   "id": "a5642f0a-1e09-43ca-aea6-933d316cf0c8",
   "metadata": {},
   "outputs": [
    {
     "name": "stdout",
     "output_type": "stream",
     "text": [
      "Mean Squared Error: 329698638777.2561\n"
     ]
    }
   ],
   "source": [
    "mse = mean_squared_error(y, predictions)\n",
    "print(\"Mean Squared Error:\", mse)"
   ]
  },
  {
   "cell_type": "code",
   "execution_count": 26,
   "id": "34d25093-3154-415f-b1f1-4dc7b286931e",
   "metadata": {},
   "outputs": [
    {
     "name": "stdout",
     "output_type": "stream",
     "text": [
      "Error Rate: 1.0\n"
     ]
    }
   ],
   "source": [
    "acceptable_margin = 0.001\n",
    "absolute_errors = abs(y - predictions)\n",
    "unacceptable_predictions = sum(absolute_errors > acceptable_margin)\n",
    "error_rate = unacceptable_predictions / len(predictions)\n",
    "\n",
    "print(\"Error Rate:\", error_rate)"
   ]
  },
  {
   "cell_type": "code",
   "execution_count": 27,
   "id": "3ef6d3dc",
   "metadata": {},
   "outputs": [
    {
     "data": {
      "text/plain": [
       "0      2.952011e+06\n",
       "1      1.683861e+06\n",
       "2      2.016992e+06\n",
       "3      1.836528e+06\n",
       "4      3.396542e+06\n",
       "           ...     \n",
       "118    2.039304e+06\n",
       "119    1.878202e+06\n",
       "120    1.316686e+06\n",
       "121    4.942187e+06\n",
       "122    2.941657e+06\n",
       "Length: 123, dtype: float64"
      ]
     },
     "execution_count": 27,
     "metadata": {},
     "output_type": "execute_result"
    }
   ],
   "source": [
    "pd.DataFrame(predictions)\n",
    "predictions"
   ]
  },
  {
   "cell_type": "code",
   "execution_count": 28,
   "id": "81909bba",
   "metadata": {},
   "outputs": [
    {
     "ename": "NameError",
     "evalue": "name 'wholefoodsdf' is not defined",
     "output_type": "error",
     "traceback": [
      "\u001b[0;31m---------------------------------------------------------------------------\u001b[0m",
      "\u001b[0;31mNameError\u001b[0m                                 Traceback (most recent call last)",
      "\u001b[0;32m/var/folders/1q/xp3s_g4562n85d_j0xm_sp080000gn/T/ipykernel_55049/1292052623.py\u001b[0m in \u001b[0;36m<module>\u001b[0;34m\u001b[0m\n\u001b[0;32m----> 1\u001b[0;31m \u001b[0mwholefoodsdf\u001b[0m\u001b[0;34m[\u001b[0m\u001b[0;34m'predicted_cap_rate'\u001b[0m\u001b[0;34m]\u001b[0m \u001b[0;34m=\u001b[0m \u001b[0mpredictions\u001b[0m\u001b[0;34m\u001b[0m\u001b[0;34m\u001b[0m\u001b[0m\n\u001b[0m",
      "\u001b[0;31mNameError\u001b[0m: name 'wholefoodsdf' is not defined"
     ]
    }
   ],
   "source": [
    "wholefoodsdf['predicted_cap_rate'] = predictions"
   ]
  },
  {
   "cell_type": "code",
   "execution_count": null,
   "id": "17e007d2",
   "metadata": {},
   "outputs": [],
   "source": [
    "wholefoodsdf.to_excel('cap_rate_prediction_model.xlsx', sheet_name='CapRatePredictions', index=False, engine='openpyxl')"
   ]
  },
  {
   "cell_type": "code",
   "execution_count": null,
   "id": "3cc839ac",
   "metadata": {},
   "outputs": [],
   "source": [
    "import openpyxl"
   ]
  },
  {
   "cell_type": "code",
   "execution_count": null,
   "id": "d3c51aec-b803-41b3-8165-408c67b6f353",
   "metadata": {},
   "outputs": [],
   "source": [
    "import seaborn as sns"
   ]
  },
  {
   "cell_type": "code",
   "execution_count": null,
   "id": "f183c2c9-c8ae-4420-8c29-ee79dc23f7e2",
   "metadata": {},
   "outputs": [],
   "source": [
    "plt.figure(figsize=(12, 6))\n",
    "\n",
    "sns.kdeplot(wholefoodsdf['cap_rate'], label='Actual', shade=True)\n",
    "\n",
    "sns.kdeplot(wholefoodsdf['predicted_cap_rate'], label='Predicted', shade=True)\n",
    "\n",
    "plt.title('Distribution of Actual and Predicted Values')\n",
    "plt.xlabel('Values')\n",
    "plt.ylabel('Density')\n",
    "plt.legend()\n",
    "\n",
    "plt.show()"
   ]
  },
  {
   "cell_type": "code",
   "execution_count": null,
   "id": "b9816860-cae1-41d7-a495-31ac0c8c72ae",
   "metadata": {},
   "outputs": [],
   "source": [
    "wholefoodsdf['error'] = abs(wholefoodsdf['predicted_cap_rate'] - wholefoodsdf['cap_rate'])"
   ]
  },
  {
   "cell_type": "code",
   "execution_count": null,
   "id": "ef8298bd-ec96-4569-8320-63ff5f42ba92",
   "metadata": {},
   "outputs": [],
   "source": [
    "plt.figure(figsize=(12, 6))\n",
    "plt.scatter(wholefoodsdf['predicted_cap_rate'], wholefoodsdf['error'])\n",
    "plt.axhline(y=0, color='r', linestyle='--')\n",
    "plt.title('Residual Plot')\n",
    "plt.xlabel('Predicted Values')\n",
    "plt.ylabel('Residuals')\n",
    "plt.show()\n"
   ]
  },
  {
   "cell_type": "code",
   "execution_count": null,
   "id": "a54f472a-7f05-4c46-b85a-99da1c6018e7",
   "metadata": {},
   "outputs": [],
   "source": [
    "from sklearn.model_selection import KFold\n",
    "from sklearn.metrics import mean_absolute_error"
   ]
  },
  {
   "cell_type": "code",
   "execution_count": null,
   "id": "fa935d87-077e-4495-afa3-8a5d4b985d2b",
   "metadata": {},
   "outputs": [],
   "source": [
    "def learning_curve_statsmodels(X, y, cv=5, train_sizes=np.linspace(0.1, 1.0, 10)):\n",
    "    train_sizes = np.array(train_sizes)\n",
    "    n_train_sizes = len(train_sizes)\n",
    "    train_scores = np.zeros(n_train_sizes)\n",
    "    test_scores = np.zeros(n_train_sizes)\n",
    "    \n",
    "    kf = KFold(n_splits=cv)\n",
    "    \n",
    "    for i, train_size in enumerate(train_sizes):\n",
    "        train_errors = []\n",
    "        test_errors = []\n",
    "        \n",
    "        for train_index, test_index in kf.split(X):\n",
    "            X_train, X_test = X.iloc[train_index], X.iloc[test_index]\n",
    "            y_train, y_test = y.iloc[train_index], y.iloc[test_index]\n",
    "            \n",
    "            X_train_sample = X_train.iloc[:int(len(X_train) * train_size)]\n",
    "            y_train_sample = y_train.iloc[:int(len(y_train) * train_size)]\n",
    "            \n",
    "            X_train_sample = sm.add_constant(X_train_sample)\n",
    "            X_test = sm.add_constant(X_test)\n",
    "            \n",
    "            model = sm.OLS(y_train_sample, X_train_sample).fit()\n",
    "            y_train_pred = model.predict(X_train_sample)\n",
    "            y_test_pred = model.predict(X_test)\n",
    "            \n",
    "            train_errors.append(mean_absolute_error(y_train_sample, y_train_pred))\n",
    "            test_errors.append(mean_absolute_error(y_test, y_test_pred))\n",
    "        \n",
    "        train_scores[i] = np.mean(train_errors)\n",
    "        test_scores[i] = np.mean(test_errors)\n",
    "    \n",
    "    return train_sizes, train_scores, test_scores"
   ]
  },
  {
   "cell_type": "code",
   "execution_count": null,
   "id": "30e83498-57b3-4de6-9fc0-638cc1cd826c",
   "metadata": {},
   "outputs": [],
   "source": [
    "train_sizes, train_scores, test_scores = learning_curve_statsmodels(X, y, cv=5)\n",
    "\n",
    "plt.figure(figsize=(12, 6))\n",
    "plt.plot(train_sizes * len(X), train_scores, 'o-', color=\"r\", label=\"Training score\")\n",
    "plt.plot(train_sizes * len(X), test_scores, 'o-', color=\"g\", label=\"Cross-validation score\")\n",
    "\n",
    "plt.title('Learning Curve')\n",
    "plt.xlabel('Training Examples')\n",
    "plt.ylabel('Mean Absolute Error (MAE)')\n",
    "plt.legend(loc=\"best\")\n",
    "plt.show()\n"
   ]
  },
  {
   "cell_type": "code",
   "execution_count": null,
   "id": "eedaf25e-f7dd-4d76-a02b-362bda6f0537",
   "metadata": {},
   "outputs": [],
   "source": []
  }
 ],
 "metadata": {
  "kernelspec": {
   "display_name": "Python 3 (ipykernel)",
   "language": "python",
   "name": "python3"
  },
  "language_info": {
   "codemirror_mode": {
    "name": "ipython",
    "version": 3
   },
   "file_extension": ".py",
   "mimetype": "text/x-python",
   "name": "python",
   "nbconvert_exporter": "python",
   "pygments_lexer": "ipython3",
   "version": "3.9.7"
  }
 },
 "nbformat": 4,
 "nbformat_minor": 5
}
